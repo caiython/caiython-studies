{
  "cells": [
    {
      "cell_type": "markdown",
      "source": [
        "#**Classe e Objeto**"
      ],
      "metadata": {
        "id": "FK3kK9_l-MSo"
      }
    },
    {
      "cell_type": "code",
      "source": [
        "class SerVivo():\n",
        "  def __init__(self,nome,idade = 0,altura = 0,peso = 0,sexo = 'U'):\n",
        "    self.nome = nome\n",
        "    self.idade = idade\n",
        "    self.altura = altura\n",
        "    self.peso = peso\n",
        "    self.sexo = sexo\n",
        "    print(\"Construtor chamado para criar um objeto desta classe.\")\n",
        "  \n",
        "  def imprimeDados(self):\n",
        "    print(\"Nome: %s\" %self.nome)\n",
        "    print(\"Idade: %i anos\" %self.idade)\n",
        "    print(\"Altura: %.2f m\" %self.altura)\n",
        "    print(\"Peso: %.2f kg\" %self.peso)\n",
        "    print(\"Sexo: %c\" %self.sexo)"
      ],
      "metadata": {
        "id": "u7tzIggJjHz1"
      },
      "execution_count": 3,
      "outputs": []
    },
    {
      "cell_type": "code",
      "source": [
        "Caio = SerVivo(\"Caio\", sexo = 'M')\n",
        "Gabriela = SerVivo(\"Gabriela\",17,1.69,52,'F')\n",
        "Preta = SerVivo(\"Preta\",7,1.40,30,'F')"
      ],
      "metadata": {
        "colab": {
          "base_uri": "https://localhost:8080/"
        },
        "id": "9We_9nrxoDUT",
        "outputId": "47323727-8b3c-4c1b-cf67-ae5efb75016a"
      },
      "execution_count": 4,
      "outputs": [
        {
          "output_type": "stream",
          "name": "stdout",
          "text": [
            "Construtor chamado para criar um objeto desta classe.\n",
            "Construtor chamado para criar um objeto desta classe.\n",
            "Construtor chamado para criar um objeto desta classe.\n"
          ]
        }
      ]
    },
    {
      "cell_type": "code",
      "source": [
        "lista = [Gabriela,Caio,Preta]"
      ],
      "metadata": {
        "id": "pcfLOU1N8VQV"
      },
      "execution_count": 5,
      "outputs": []
    },
    {
      "cell_type": "code",
      "source": [
        "for i in lista:\n",
        "  i.imprimeDados()\n",
        "  print(\"\")"
      ],
      "metadata": {
        "colab": {
          "base_uri": "https://localhost:8080/"
        },
        "id": "iZZ2D0Tv8dMh",
        "outputId": "8666cf95-1666-4476-eeb4-2b4c310260a9"
      },
      "execution_count": 6,
      "outputs": [
        {
          "output_type": "stream",
          "name": "stdout",
          "text": [
            "Nome: Gabriela\n",
            "Idade: 17 anos\n",
            "Altura: 1.69 m\n",
            "Peso: 52.00 kg\n",
            "Sexo: F\n",
            "\n",
            "Nome: Caio\n",
            "Idade: 0 anos\n",
            "Altura: 0.00 m\n",
            "Peso: 0.00 kg\n",
            "Sexo: M\n",
            "\n",
            "Nome: Preta\n",
            "Idade: 7 anos\n",
            "Altura: 1.40 m\n",
            "Peso: 30.00 kg\n",
            "Sexo: F\n",
            "\n"
          ]
        }
      ]
    },
    {
      "cell_type": "markdown",
      "source": [
        "Lidando com Atributos"
      ],
      "metadata": {
        "id": "iVdO7NJKAa01"
      }
    },
    {
      "cell_type": "code",
      "source": [
        "#Verifica se o objeto Caio possui o atributo nome (Verdadeiro)\n",
        "hasattr(Caio,\"nome\")"
      ],
      "metadata": {
        "colab": {
          "base_uri": "https://localhost:8080/"
        },
        "id": "FyXF1YnaAe36",
        "outputId": "7850b9ea-5823-4be1-f15e-54fffbea388b"
      },
      "execution_count": 7,
      "outputs": [
        {
          "output_type": "execute_result",
          "data": {
            "text/plain": [
              "True"
            ]
          },
          "metadata": {},
          "execution_count": 7
        }
      ]
    },
    {
      "cell_type": "code",
      "source": [
        "#Verifica se o objeto Caio possui o atributo idade (Verdadeiro)\n",
        "hasattr(Caio,\"idade\")"
      ],
      "metadata": {
        "colab": {
          "base_uri": "https://localhost:8080/"
        },
        "id": "FEUU8MlwA_VX",
        "outputId": "cf6d4483-3f31-4c9a-c9a1-01c3cb2ad83b"
      },
      "execution_count": 8,
      "outputs": [
        {
          "output_type": "execute_result",
          "data": {
            "text/plain": [
              "True"
            ]
          },
          "metadata": {},
          "execution_count": 8
        }
      ]
    },
    {
      "cell_type": "code",
      "source": [
        "#Define o valor do atributo idade como 2 para o objeto Caio\n",
        "setattr(Caio,\"idade\",22)"
      ],
      "metadata": {
        "id": "D5ACPyOFBI-o"
      },
      "execution_count": 9,
      "outputs": []
    },
    {
      "cell_type": "code",
      "source": [
        "#Retorna o valor do atributo idade do objeto Caio (22)\n",
        "getattr(Caio,\"idade\")"
      ],
      "metadata": {
        "colab": {
          "base_uri": "https://localhost:8080/"
        },
        "id": "MOam9S1QBZLq",
        "outputId": "d3aab91c-8535-4499-adab-17f0baa629cc"
      },
      "execution_count": 10,
      "outputs": [
        {
          "output_type": "execute_result",
          "data": {
            "text/plain": [
              "22"
            ]
          },
          "metadata": {},
          "execution_count": 10
        }
      ]
    },
    {
      "cell_type": "code",
      "source": [
        "#Deleta o atributo idade do objeto Caio\n",
        "delattr(Caio,\"idade\")"
      ],
      "metadata": {
        "id": "p-pAJHN0BtuT"
      },
      "execution_count": 11,
      "outputs": []
    },
    {
      "cell_type": "code",
      "source": [
        "#Verifica se o objeto Caio possui o atributo idade (Falso)\n",
        "hasattr(Caio,\"idade\")"
      ],
      "metadata": {
        "colab": {
          "base_uri": "https://localhost:8080/"
        },
        "id": "3xeLEkg5B3aT",
        "outputId": "2e23f2b9-5293-4b37-839c-73997229de4c"
      },
      "execution_count": 12,
      "outputs": [
        {
          "output_type": "execute_result",
          "data": {
            "text/plain": [
              "False"
            ]
          },
          "metadata": {},
          "execution_count": 12
        }
      ]
    },
    {
      "cell_type": "markdown",
      "source": [
        "#Herança"
      ],
      "metadata": {
        "id": "CPK2U_WDGiPu"
      }
    },
    {
      "cell_type": "code",
      "source": [
        "class Animal():\n",
        "\n",
        "  def __init__(self):\n",
        "    print(\"Animal Criado\")\n",
        "  \n",
        "  def identif(self):\n",
        "    print(\"Animal\")\n",
        "  \n",
        "  def comer(self):\n",
        "    print(\"Comendo.\")"
      ],
      "metadata": {
        "id": "FH2RDPZUGktJ"
      },
      "execution_count": 39,
      "outputs": []
    },
    {
      "cell_type": "code",
      "source": [
        "class Cachorro(Animal):\n",
        "  \n",
        "  def __init__(self):\n",
        "    Animal.__init__(self)\n",
        "    print(\"Objeto Cachorro criado\")\n",
        "  \n",
        "  def identif(self):\n",
        "    print(\"Cachorro\")\n",
        "  \n",
        "  def latir(self):\n",
        "    print(\"Au au!\")"
      ],
      "metadata": {
        "id": "8tT-pyNVIfwC"
      },
      "execution_count": 40,
      "outputs": []
    },
    {
      "cell_type": "code",
      "source": [
        "Bethoven = Cachorro()"
      ],
      "metadata": {
        "colab": {
          "base_uri": "https://localhost:8080/"
        },
        "id": "8XgTMMChKwed",
        "outputId": "0f963603-3044-4474-af31-839f4aa4d07a"
      },
      "execution_count": 41,
      "outputs": [
        {
          "output_type": "stream",
          "name": "stdout",
          "text": [
            "Animal Criado\n",
            "Objeto Cachorro criado\n"
          ]
        }
      ]
    },
    {
      "cell_type": "code",
      "source": [
        "Bethoven.identif()"
      ],
      "metadata": {
        "colab": {
          "base_uri": "https://localhost:8080/"
        },
        "id": "PJnz61D6K-8m",
        "outputId": "c92ecf49-1ad9-4de0-e690-ad06316f9fe2"
      },
      "execution_count": 42,
      "outputs": [
        {
          "output_type": "stream",
          "name": "stdout",
          "text": [
            "Cachorro\n"
          ]
        }
      ]
    },
    {
      "cell_type": "code",
      "source": [
        "Bethoven.comer()"
      ],
      "metadata": {
        "colab": {
          "base_uri": "https://localhost:8080/"
        },
        "id": "OTOdzBV8LJ1g",
        "outputId": "96eda95f-0f91-447b-ba1d-829d9864690a"
      },
      "execution_count": 43,
      "outputs": [
        {
          "output_type": "stream",
          "name": "stdout",
          "text": [
            "Comendo.\n"
          ]
        }
      ]
    },
    {
      "cell_type": "code",
      "source": [
        "Bethoven.latir()"
      ],
      "metadata": {
        "colab": {
          "base_uri": "https://localhost:8080/"
        },
        "id": "qG1bGRTsLEk7",
        "outputId": "86e87e09-caa2-43ec-d613-181673deefda"
      },
      "execution_count": 44,
      "outputs": [
        {
          "output_type": "stream",
          "name": "stdout",
          "text": [
            "Au au!\n"
          ]
        }
      ]
    }
  ],
  "metadata": {
    "kernelspec": {
      "display_name": "Python 3",
      "language": "python",
      "name": "python3"
    },
    "language_info": {
      "codemirror_mode": {
        "name": "ipython",
        "version": 3
      },
      "file_extension": ".py",
      "mimetype": "text/x-python",
      "name": "python",
      "nbconvert_exporter": "python",
      "pygments_lexer": "ipython3",
      "version": "3.8.8"
    },
    "colab": {
      "name": "Studying.ipynb",
      "provenance": [],
      "collapsed_sections": [
        "FK3kK9_l-MSo",
        "CPK2U_WDGiPu"
      ]
    }
  },
  "nbformat": 4,
  "nbformat_minor": 0
}