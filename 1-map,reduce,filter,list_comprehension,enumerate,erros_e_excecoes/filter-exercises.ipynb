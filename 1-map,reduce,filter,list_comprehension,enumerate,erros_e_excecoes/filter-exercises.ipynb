{
  "nbformat": 4,
  "nbformat_minor": 0,
  "metadata": {
    "colab": {
      "name": "python3_exercicios_map,reduce,filter,list_comprehension,enumerate,erros_e_excecoes.ipynb",
      "provenance": []
    },
    "kernelspec": {
      "name": "python3",
      "display_name": "Python 3"
    },
    "language_info": {
      "name": "python"
    }
  },
  "cells": [
    {
      "cell_type": "markdown",
      "source": [
        "# Função filter()\n",
        "Lista de exercícios resolvidos voltados ao uso da função built-in **filter()** utilizando a Linguagem Python"
      ],
      "metadata": {
        "id": "9ua1Sru-3yPs"
      }
    },
    {
      "cell_type": "markdown",
      "source": [
        "1. Use filter() para imprimir apenas os nomes menores ou iguais a sete letras"
      ],
      "metadata": {
        "id": "VBSy1Z1U2Z-k"
      }
    },
    {
      "cell_type": "code",
      "source": [
        "#Dados\n",
        "lista_de_nomes = [\"Adriana\",\"Bernardo\", \"Bruno\", \"Carlos\", \"Felipe\", \"Flávia\", \"Luísa\"]\n",
        "\n",
        "#Resolução\n",
        "list(filter(lambda name: len(name) <= 7, lista_de_nomes))"
      ],
      "metadata": {
        "colab": {
          "base_uri": "https://localhost:8080/"
        },
        "id": "LNGOa7If1u0-",
        "outputId": "7d65bc4b-2a0f-4ea1-eb3a-e13d9d684bb5"
      },
      "execution_count": null,
      "outputs": [
        {
          "output_type": "execute_result",
          "data": {
            "text/plain": [
              "['Adriana', 'Bruno', 'Carlos', 'Felipe', 'Flávia', 'Luísa']"
            ]
          },
          "metadata": {},
          "execution_count": 39
        }
      ]
    },
    {
      "cell_type": "markdown",
      "source": [
        "2. Usando a função filter(), filtre a lista para que apenas os números negativos sejam retornados"
      ],
      "metadata": {
        "id": "-SI0_K6wH3rP"
      }
    },
    {
      "cell_type": "code",
      "source": [
        "#Dados\n",
        "lst1 = [12, -1, 9, 8, -0.5, -0.2, -100]\n",
        "\n",
        "#Resolução\n",
        "list(filter(lambda num: num < 0,lst1))"
      ],
      "metadata": {
        "colab": {
          "base_uri": "https://localhost:8080/"
        },
        "id": "ZKy1m8pgArzM",
        "outputId": "5a0e3515-19ca-43e9-94f6-2cc3bad01c3f"
      },
      "execution_count": null,
      "outputs": [
        {
          "output_type": "execute_result",
          "data": {
            "text/plain": [
              "[-1, -0.5, -0.2, -100]"
            ]
          },
          "metadata": {},
          "execution_count": 42
        }
      ]
    },
    {
      "cell_type": "markdown",
      "source": [
        "3. Usando a função filter(), filtre os números pares para que apenas os números ímpares sejam passados ​​para a nova lista."
      ],
      "metadata": {
        "id": "ZQQJ9yWtIJzk"
      }
    },
    {
      "cell_type": "code",
      "source": [
        "#Dados\n",
        "lst1=[22, 100, 19, 13, 11, 1, 4, 66]\n",
        "\n",
        "#Resolução\n",
        "list(filter(lambda num: num % 2 != 0,lst1))"
      ],
      "metadata": {
        "colab": {
          "base_uri": "https://localhost:8080/"
        },
        "id": "Sby_RzMnBJBC",
        "outputId": "f546568d-5730-4005-c08e-85a37d6b458c"
      },
      "execution_count": null,
      "outputs": [
        {
          "output_type": "execute_result",
          "data": {
            "text/plain": [
              "[19, 13, 11, 1]"
            ]
          },
          "metadata": {},
          "execution_count": 44
        }
      ]
    },
    {
      "cell_type": "markdown",
      "source": [
        "4. Usando as funções filter() e list() e o método .lower() filtre todas as vogais em uma determinada string."
      ],
      "metadata": {
        "id": "7F0WV7r6IbD5"
      }
    },
    {
      "cell_type": "code",
      "source": [
        "#Dados\n",
        "str1 = \"Winter Olympics in 2022 will take place in Beijing China\"\n",
        "\n",
        "#Resolução\n",
        "list(filter(lambda char: char.lower() not in ['a','e','i','o','u'],str1))"
      ],
      "metadata": {
        "colab": {
          "base_uri": "https://localhost:8080/"
        },
        "id": "muO4dqrQB2wX",
        "outputId": "7ee08a2a-e00d-4c86-c40c-a3ed3f014090"
      },
      "execution_count": null,
      "outputs": [
        {
          "output_type": "execute_result",
          "data": {
            "text/plain": [
              "['W',\n",
              " 'n',\n",
              " 't',\n",
              " 'r',\n",
              " ' ',\n",
              " 'l',\n",
              " 'y',\n",
              " 'm',\n",
              " 'p',\n",
              " 'c',\n",
              " 's',\n",
              " ' ',\n",
              " 'n',\n",
              " ' ',\n",
              " '2',\n",
              " '0',\n",
              " '2',\n",
              " '2',\n",
              " ' ',\n",
              " 'w',\n",
              " 'l',\n",
              " 'l',\n",
              " ' ',\n",
              " 't',\n",
              " 'k',\n",
              " ' ',\n",
              " 'p',\n",
              " 'l',\n",
              " 'c',\n",
              " ' ',\n",
              " 'n',\n",
              " ' ',\n",
              " 'B',\n",
              " 'j',\n",
              " 'n',\n",
              " 'g',\n",
              " ' ',\n",
              " 'C',\n",
              " 'h',\n",
              " 'n']"
            ]
          },
          "metadata": {},
          "execution_count": 45
        }
      ]
    },
    {
      "cell_type": "markdown",
      "source": [
        "5. Desta vez, usando as funções filter() e list() filtre todos os inteiros positivos na string."
      ],
      "metadata": {
        "id": "CKxdQFUjItWp"
      }
    },
    {
      "cell_type": "code",
      "source": [
        "#Dados\n",
        "str1 = \"Winter Olympics in 2022 will take place in Beijing China\"\n",
        "\n",
        "#Resolução\n",
        "list(filter(lambda char: char not in ['1','2','3','4','5','6','7','8','9','0'],str1))"
      ],
      "metadata": {
        "colab": {
          "base_uri": "https://localhost:8080/"
        },
        "id": "z83uQo5SFDmv",
        "outputId": "25d83fe8-cc16-411c-f34e-5db44d1702c9"
      },
      "execution_count": null,
      "outputs": [
        {
          "output_type": "execute_result",
          "data": {
            "text/plain": [
              "['W',\n",
              " 'i',\n",
              " 'n',\n",
              " 't',\n",
              " 'e',\n",
              " 'r',\n",
              " ' ',\n",
              " 'O',\n",
              " 'l',\n",
              " 'y',\n",
              " 'm',\n",
              " 'p',\n",
              " 'i',\n",
              " 'c',\n",
              " 's',\n",
              " ' ',\n",
              " 'i',\n",
              " 'n',\n",
              " ' ',\n",
              " ' ',\n",
              " 'w',\n",
              " 'i',\n",
              " 'l',\n",
              " 'l',\n",
              " ' ',\n",
              " 't',\n",
              " 'a',\n",
              " 'k',\n",
              " 'e',\n",
              " ' ',\n",
              " 'p',\n",
              " 'l',\n",
              " 'a',\n",
              " 'c',\n",
              " 'e',\n",
              " ' ',\n",
              " 'i',\n",
              " 'n',\n",
              " ' ',\n",
              " 'B',\n",
              " 'e',\n",
              " 'i',\n",
              " 'j',\n",
              " 'i',\n",
              " 'n',\n",
              " 'g',\n",
              " ' ',\n",
              " 'C',\n",
              " 'h',\n",
              " 'i',\n",
              " 'n',\n",
              " 'a']"
            ]
          },
          "metadata": {},
          "execution_count": 46
        }
      ]
    }
  ]
}