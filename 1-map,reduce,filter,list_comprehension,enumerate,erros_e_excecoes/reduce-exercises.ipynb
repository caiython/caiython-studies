{
  "nbformat": 4,
  "nbformat_minor": 0,
  "metadata": {
    "colab": {
      "name": "python3_exercicios_map,reduce,filter,list_comprehension,enumerate,erros_e_excecoes.ipynb",
      "provenance": []
    },
    "kernelspec": {
      "name": "python3",
      "display_name": "Python 3"
    },
    "language_info": {
      "name": "python"
    }
  },
  "cells": [
    {
      "cell_type": "markdown",
      "source": [
        "# Função reduce()\n",
        "Lista de exercícios resolvidos voltados ao uso da função built-in **reduce()** utilizando a Linguagem Python"
      ],
      "metadata": {
        "id": "QI3jP1U1HLar"
      }
    },
    {
      "cell_type": "markdown",
      "source": [
        "1. Use reduce() para imprimir o produto desses números"
      ],
      "metadata": {
        "id": "Fr4ITF5hHR-o"
      }
    },
    {
      "cell_type": "code",
      "source": [
        "from functools import reduce\n",
        "\n",
        "#Dados\n",
        "my_numbers = [4, 6, 9, 23, 5]\n",
        "\n",
        "#Resolução\n",
        "reduce(lambda num1, num2: num1 * num2, my_numbers)"
      ],
      "metadata": {
        "colab": {
          "base_uri": "https://localhost:8080/"
        },
        "id": "SX0p06YG1wA-",
        "outputId": "b5fceb70-c3a6-4acb-c9b1-3631b563883c"
      },
      "execution_count": null,
      "outputs": [
        {
          "output_type": "execute_result",
          "data": {
            "text/plain": [
              "24840"
            ]
          },
          "metadata": {},
          "execution_count": 43
        }
      ]
    }
  ]
}