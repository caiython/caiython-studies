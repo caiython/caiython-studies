{
  "nbformat": 4,
  "nbformat_minor": 0,
  "metadata": {
    "colab": {
      "name": "python3_exercicios_map,reduce,filter,list_comprehension,enumerate,erros_e_excecoes.ipynb",
      "provenance": []
    },
    "kernelspec": {
      "name": "python3",
      "display_name": "Python 3"
    },
    "language_info": {
      "name": "python"
    }
  },
  "cells": [
    {
      "cell_type": "markdown",
      "source": [
        "# Função map()\n",
        "Lista de exercícios resolvidos voltados ao uso da função built-in **map()** utilizando a Linguagem Python"
      ],
      "metadata": {
        "id": "jrdFrnToydw3"
      }
    },
    {
      "cell_type": "markdown",
      "source": [
        "1. Use a função map() para imprimir o quadrado de cada número arredondado para duas casas decimais"
      ],
      "metadata": {
        "id": "nP-OVCfZzIzC"
      }
    },
    {
      "cell_type": "code",
      "source": [
        "#Dados\n",
        "numeros_decimais = [4.35, 6.09, 3.25, 9.77, 2.16, 8.88, 4.59]\n",
        "\n",
        "#Resolução\n",
        "list(map(lambda x: round(x**3,2),numeros_decimais))"
      ],
      "metadata": {
        "colab": {
          "base_uri": "https://localhost:8080/"
        },
        "id": "qUgR35tn-5Rg",
        "outputId": "4e1a75a0-a528-4859-e7b3-f8908f5d5106"
      },
      "execution_count": null,
      "outputs": [
        {
          "output_type": "execute_result",
          "data": {
            "text/plain": [
              "[82.31, 225.87, 34.33, 932.57, 10.08, 700.23, 96.7]"
            ]
          },
          "metadata": {},
          "execution_count": 11
        }
      ]
    },
    {
      "cell_type": "markdown",
      "source": [
        "2. Escreva um programa Python para somar os elementos de três listas fornecidas usando map() e lambda."
      ],
      "metadata": {
        "id": "ezICyuD87TIU"
      }
    },
    {
      "cell_type": "code",
      "source": [
        "#Dados\n",
        "lista1 = [1, 2, 3]\n",
        "lista2 = [2, 3, 4]\n",
        "lista3 = [3, 4, 5]\n",
        "\n",
        "#Resolução\n",
        "list(map(lambda x, y, z: x + y + z, lista1, lista2, lista3))"
      ],
      "metadata": {
        "colab": {
          "base_uri": "https://localhost:8080/"
        },
        "id": "YrivC-SE7eis",
        "outputId": "0c8b79c9-e034-4ba9-eef3-44dfbfb308ac"
      },
      "execution_count": null,
      "outputs": [
        {
          "output_type": "execute_result",
          "data": {
            "text/plain": [
              "[6, 9, 12]"
            ]
          },
          "metadata": {},
          "execution_count": 14
        }
      ]
    },
    {
      "cell_type": "markdown",
      "source": [
        "3. Escreva um programa Python para listar a lista de strings fornecidas individualmente usando a função map()"
      ],
      "metadata": {
        "id": "W2V87Ht68CjY"
      }
    },
    {
      "cell_type": "code",
      "source": [
        "#Dados\n",
        "lista_de_cores = [\"Azul\", \"Vermelho\", \"Verde\", \"Amrelo\"]\n",
        "\n",
        "#Resolução\n",
        "\n",
        "def listaItens(lista):\n",
        "  resultado = []\n",
        "  for i in lista:\n",
        "    resultado.append(i)\n",
        "  return resultado\n",
        "  \n",
        "list(map(listaItens,lista_de_cores))"
      ],
      "metadata": {
        "colab": {
          "base_uri": "https://localhost:8080/"
        },
        "id": "cyQE2SRh8C--",
        "outputId": "1b0a2348-77d5-4300-eaf7-38e5bdda392e"
      },
      "execution_count": null,
      "outputs": [
        {
          "output_type": "execute_result",
          "data": {
            "text/plain": [
              "[['A', 'z', 'u', 'l'],\n",
              " ['V', 'e', 'r', 'm', 'e', 'l', 'h', 'o'],\n",
              " ['V', 'e', 'r', 'd', 'e'],\n",
              " ['A', 'm', 'r', 'e', 'l', 'o']]"
            ]
          },
          "metadata": {},
          "execution_count": 13
        }
      ]
    },
    {
      "cell_type": "markdown",
      "source": [
        "4. Escreva um programa Python para criar uma lista contendo a potência do referido número em bases elevadas ao número correspondente no índice usando a função map()"
      ],
      "metadata": {
        "id": "8ZHoxC8E-Wgf"
      }
    },
    {
      "cell_type": "code",
      "source": [
        "#Dados\n",
        "lista_de_bases = [1, 2, 3, 4, 5, 6, 7, 8, 9]\n",
        "lista_de_expoentes = [1, 2, 3, 4, 5, 6, 7, 8, 9]\n",
        "\n",
        "#Resolução\n",
        "list(map(lambda x, y: x**y, lista_de_bases, lista_de_expoentes))"
      ],
      "metadata": {
        "colab": {
          "base_uri": "https://localhost:8080/"
        },
        "id": "u9O6QLU1-iGG",
        "outputId": "4a61d90b-4d00-4721-a1e7-1ebb346f3008"
      },
      "execution_count": null,
      "outputs": [
        {
          "output_type": "execute_result",
          "data": {
            "text/plain": [
              "[1, 4, 27, 256, 3125, 46656, 823543, 16777216, 387420489]"
            ]
          },
          "metadata": {},
          "execution_count": 16
        }
      ]
    },
    {
      "cell_type": "markdown",
      "source": [
        "5. Escreva um programa Python para elevar ao quadrado os elementos de uma lista usando a função map()."
      ],
      "metadata": {
        "id": "SR_viIhQ-0yH"
      }
    },
    {
      "cell_type": "code",
      "source": [
        "#Dados\n",
        "lista_de_numeros = [0,1,2,3,4,5,6,7,8,9]\n",
        "\n",
        "#Resolução\n",
        "list(map(lambda x: x**2,lista_de_numeros))"
      ],
      "metadata": {
        "colab": {
          "base_uri": "https://localhost:8080/"
        },
        "id": "D9Tj91oN-7v_",
        "outputId": "2a697e66-2bf5-4d8e-8f6d-5360d9cadfa2"
      },
      "execution_count": null,
      "outputs": [
        {
          "output_type": "execute_result",
          "data": {
            "text/plain": [
              "[0, 1, 4, 9, 16, 25, 36, 49, 64, 81]"
            ]
          },
          "metadata": {},
          "execution_count": 15
        }
      ]
    },
    {
      "cell_type": "markdown",
      "source": [
        "6. Escreva um programa Python para converter todos os caracteres em tuplas de caracteres maiúsculos e minúsculos, e eliminar letras duplicadas de uma determinada sequência. Use a função map()"
      ],
      "metadata": {
        "id": "oDwINUUU_Hj1"
      }
    },
    {
      "cell_type": "code",
      "source": [
        "#Dados\n",
        "lista_de_caracteres = ['a','b','c','a','B','C']\n",
        "\n",
        "#Resolução\n",
        "set(map(lambda x: (str(x).upper(), str(x).lower()), lista_de_caracteres))"
      ],
      "metadata": {
        "colab": {
          "base_uri": "https://localhost:8080/"
        },
        "id": "Gbz7GrTQ_cgi",
        "outputId": "0b3e8993-1d1f-452a-9f38-7e6aeedeee28"
      },
      "execution_count": null,
      "outputs": [
        {
          "output_type": "execute_result",
          "data": {
            "text/plain": [
              "{('A', 'a'), ('B', 'b'), ('C', 'c')}"
            ]
          },
          "metadata": {},
          "execution_count": 17
        }
      ]
    },
    {
      "cell_type": "markdown",
      "source": [
        "7. Escreva um programa em Python para adicionar duas listas fornecidas e retornar a soma e a subtração entre os elementos das listas. Use a função map()."
      ],
      "metadata": {
        "id": "uMERMSJb_rdS"
      }
    },
    {
      "cell_type": "code",
      "source": [
        "#Dados\n",
        "lista_1 = [6, 5, 3, 9]\n",
        "lista_2 = [0, 1, 7, 7]\n",
        "\n",
        "#Resolução\n",
        "list(map(lambda x,y: (x+y, x-y), lista_1, lista_2))"
      ],
      "metadata": {
        "colab": {
          "base_uri": "https://localhost:8080/"
        },
        "id": "WrJS0D67_wgr",
        "outputId": "2a7c4f96-ade1-4626-d7e3-3c35dd78dcbf"
      },
      "execution_count": null,
      "outputs": [
        {
          "output_type": "execute_result",
          "data": {
            "text/plain": [
              "[(6, 6), (6, 4), (10, -4), (16, 2)]"
            ]
          },
          "metadata": {},
          "execution_count": 20
        }
      ]
    },
    {
      "cell_type": "markdown",
      "source": [
        "8. Escreva um programa Python para converter uma determinada lista de inteiros e uma tupla de inteiros em uma lista de strings."
      ],
      "metadata": {
        "id": "V0kCbs4_AaSB"
      }
    },
    {
      "cell_type": "code",
      "source": [
        "#Dados\n",
        "nums_list = [1,2,3,4]\n",
        "nums_tuple = (0, 1, 2, 3)\n",
        "\n",
        "#Resolução\n",
        "nums_list_str = list(map(lambda x: str(x), nums_list))\n",
        "nums_tuple_str = tuple(map(lambda x: str(x), nums_tuple))\n",
        "\n",
        "print(nums_list_str)\n",
        "print(nums_tuple_str)"
      ],
      "metadata": {
        "colab": {
          "base_uri": "https://localhost:8080/"
        },
        "id": "EnNP2exrAaqE",
        "outputId": "264bf4e3-7093-4d32-c0e0-4b1a5dc33040"
      },
      "execution_count": null,
      "outputs": [
        {
          "output_type": "stream",
          "name": "stdout",
          "text": [
            "['1', '2', '3', '4']\n",
            "('0', '1', '2', '3')\n"
          ]
        }
      ]
    },
    {
      "cell_type": "markdown",
      "source": [
        "9. Escreva um programa Python para criar uma nova lista pegando elementos específicos de uma tupla e converta um valor de string em inteiro."
      ],
      "metadata": {
        "id": "EVmUfuv7A2Lr"
      }
    },
    {
      "cell_type": "code",
      "source": [
        "#Dados\n",
        "lista_de_str = ['1','2','3','4']\n",
        "\n",
        "#Resolução\n",
        "list(map(int,lista_de_str))"
      ],
      "metadata": {
        "colab": {
          "base_uri": "https://localhost:8080/"
        },
        "id": "CFrAli_yA816",
        "outputId": "9abd148d-113a-4fea-ed71-ca72a138ab76"
      },
      "execution_count": null,
      "outputs": [
        {
          "output_type": "execute_result",
          "data": {
            "text/plain": [
              "[1, 2, 3, 4]"
            ]
          },
          "metadata": {},
          "execution_count": 23
        }
      ]
    },
    {
      "cell_type": "markdown",
      "source": [
        "10. Escreva um programa em Python para calcular o quadrado dos 10 primeiros números de Fibonacci, usando a função map e gere uma lista dos números."
      ],
      "metadata": {
        "id": "g1vzApLmBES5"
      }
    },
    {
      "cell_type": "code",
      "source": [
        "#Dados\n",
        "n = 10\n",
        "\n",
        "#Resolução\n",
        "\n",
        "from itertools import islice\n",
        "\n",
        "def numerosFibonacci (x=0,y=1):\n",
        "  yield x\n",
        "  while True:\n",
        "    yield y\n",
        "    x, y = y, x + y\n",
        "\n",
        "primeiros_n_numeros_fibonacci = list(islice(numerosFibonacci(),n))\n",
        "\n",
        "list(map(lambda x: x**2,primeiros_n_numeros_fibonacci))"
      ],
      "metadata": {
        "colab": {
          "base_uri": "https://localhost:8080/"
        },
        "id": "tyZNfooKBEqa",
        "outputId": "7f0a4b30-d75e-4c8f-b6ac-476908be1e24"
      },
      "execution_count": null,
      "outputs": [
        {
          "output_type": "execute_result",
          "data": {
            "text/plain": [
              "[0, 1, 1, 4, 9, 25, 64, 169, 441, 1156]"
            ]
          },
          "metadata": {},
          "execution_count": 24
        }
      ]
    },
    {
      "cell_type": "markdown",
      "source": [
        "11. Escreva um programa Python para calcular a soma dos elementos de um determinado array de inteiros, use a função map()."
      ],
      "metadata": {
        "id": "amfLuwwlCHCY"
      }
    },
    {
      "cell_type": "code",
      "source": [
        "#Dados\n",
        "from array import array\n",
        "numeros = array('i',[1,2,3,4,5,6,7,8,9,10])\n",
        "\n",
        "#Resolução\n",
        "\n",
        "def somaArray(lista):\n",
        "  soma = 0\n",
        "  for i in lista:\n",
        "    soma += i\n",
        "  return soma\n",
        "\n",
        "array_numeros = list(map(int,numeros))\n",
        "\n",
        "somaArray(array_numeros)"
      ],
      "metadata": {
        "colab": {
          "base_uri": "https://localhost:8080/"
        },
        "id": "98uU_ULwCMN3",
        "outputId": "ceaa8527-5a34-4c6e-e3eb-05289bd45fa0"
      },
      "execution_count": null,
      "outputs": [
        {
          "output_type": "execute_result",
          "data": {
            "text/plain": [
              "55"
            ]
          },
          "metadata": {},
          "execution_count": 27
        }
      ]
    },
    {
      "cell_type": "markdown",
      "source": [
        "12. Escreva um programa em Python para encontrar a proporção de números positivos, números negativos e zeros em um array de inteiros."
      ],
      "metadata": {
        "id": "dphS4x4ZClM6"
      }
    },
    {
      "cell_type": "code",
      "source": [
        "#Dados\n",
        "from array import array\n",
        "numeros = array('i', [-5,-4,-3,-2,-1,0,1,2,3,4])\n",
        "\n",
        "#Resolução\n",
        "def percentPosNegZero(array_de_numeros):\n",
        "  total = len(array_de_numeros)\n",
        "  n1 = n2 = n3 = 0\n",
        "  for n in array_de_numeros:\n",
        "    if n > 0:\n",
        "      n1 += 1\n",
        "    elif n < 0:\n",
        "      n2 += 1\n",
        "    else:\n",
        "      n3 += 1\n",
        "  \n",
        "  return [n1/total*100, n2/total*100, n3/total*100]\n",
        "\n",
        "array_de_numeros = list(map(int,numeros))\n",
        "percentPosNegZero(array_de_numeros)"
      ],
      "metadata": {
        "colab": {
          "base_uri": "https://localhost:8080/"
        },
        "id": "lnEK4CxLClkr",
        "outputId": "4771c925-8638-4f15-f20f-b026533d9b43"
      },
      "execution_count": null,
      "outputs": [
        {
          "output_type": "execute_result",
          "data": {
            "text/plain": [
              "[40.0, 50.0, 10.0]"
            ]
          },
          "metadata": {},
          "execution_count": 28
        }
      ]
    },
    {
      "cell_type": "markdown",
      "source": [
        "13. Escreva um programa Python para contar pares entre duas listas fornecidas. Use a função map()"
      ],
      "metadata": {
        "id": "x7TJyP_AC8J7"
      }
    },
    {
      "cell_type": "code",
      "source": [
        "#Dados\n",
        "lista1 = [10,44,23,20,97,65,21,99,13]\n",
        "lista2 = [10,39,25,19,97,65,73,53,13]\n",
        "\n",
        "#Resolução\n",
        "\n",
        "from operator import eq\n",
        "\n",
        "def contaPares(l1,l2):\n",
        "  result = sum(map(eq,l1,l2))\n",
        "  return result\n",
        "\n",
        "contaPares(lista1,lista2)"
      ],
      "metadata": {
        "colab": {
          "base_uri": "https://localhost:8080/"
        },
        "id": "cyyGGNS_DFuy",
        "outputId": "04b40163-fd83-46d3-d9b0-16be8eadab86"
      },
      "execution_count": null,
      "outputs": [
        {
          "output_type": "execute_result",
          "data": {
            "text/plain": [
              "4"
            ]
          },
          "metadata": {},
          "execution_count": 32
        }
      ]
    },
    {
      "cell_type": "markdown",
      "source": [
        "14. Escreva um programa Python para intercalar duas listas em outra lista aleatoriamente usando a função map()."
      ],
      "metadata": {
        "id": "4aUqKdfvDzIR"
      }
    },
    {
      "cell_type": "code",
      "source": [
        "#Dados\n",
        "lista1 = ['A','B','C','D','E','F']\n",
        "lista2 = [1,2,3,4,5,6]\n",
        "\n",
        "#Resolução\n",
        "\n",
        "import random\n",
        "\n",
        "def listaAleatoria(lista1,lista2):\n",
        "  result = list(map(next, random.sample([iter(lista1)]*len(lista1)+[iter(lista2)]*len(lista2),(len(lista1)+len(lista2)))))\n",
        "  return result\n",
        "\n",
        "listaAleatoria(lista1,lista2)"
      ],
      "metadata": {
        "colab": {
          "base_uri": "https://localhost:8080/"
        },
        "id": "hISSyP8PDzen",
        "outputId": "f8e5d370-8ae6-434e-a61a-e74270ed83d9"
      },
      "execution_count": null,
      "outputs": [
        {
          "output_type": "execute_result",
          "data": {
            "text/plain": [
              "[1, 2, 3, 4, 'A', 'B', 'C', 'D', 'E', 5, 'F', 6]"
            ]
          },
          "metadata": {},
          "execution_count": 35
        }
      ]
    },
    {
      "cell_type": "markdown",
      "source": [
        "15. Escreva um programa Python para dividir um determinado dicionário de listas em uma lista de dicionários usando a função map()"
      ],
      "metadata": {
        "id": "dJK4LPk_EUJs"
      }
    },
    {
      "cell_type": "code",
      "source": [
        "#Dados\n",
        "dicionarios = {'Science': [88, 89, 62, 95], 'Language': [77, 78, 84, 80]}\n",
        "\n",
        "#Resolução\n",
        "\n",
        "def lista_de_dicionarios(dicionarios):\n",
        "  resultado = list(map(dict,zip(*[[(key,val) for val in value] for key, value in dicionarios.items()])))\n",
        "  return resultado\n",
        "\n",
        "lista_de_dicionarios(dicionarios)"
      ],
      "metadata": {
        "colab": {
          "base_uri": "https://localhost:8080/"
        },
        "id": "7WlQm--jEUf9",
        "outputId": "7560dbc8-79e6-49c1-f4c0-4311ed629cc7"
      },
      "execution_count": null,
      "outputs": [
        {
          "output_type": "execute_result",
          "data": {
            "text/plain": [
              "[{'Language': 77, 'Science': 88},\n",
              " {'Language': 78, 'Science': 89},\n",
              " {'Language': 84, 'Science': 62},\n",
              " {'Language': 80, 'Science': 95}]"
            ]
          },
          "metadata": {},
          "execution_count": 33
        }
      ]
    },
    {
      "cell_type": "markdown",
      "source": [
        "16. Escreva um programa Python para converter uma determinada lista de strings em uma lista de listas usando a função map()."
      ],
      "metadata": {
        "id": "noE9w7FwEU2E"
      }
    },
    {
      "cell_type": "code",
      "source": [
        "#Dados\n",
        "lista_de_string = [\"Azul\",\"Amarelo\",\"Turquesa\",\"Vermelho\",\"Verde\",\"Preto\",\"Branco\"]\n",
        "\n",
        "#Resolução\n",
        "\n",
        "def listaLista(lista):\n",
        "  resultado = list(map(list,lista))\n",
        "  return resultado\n",
        "\n",
        "listaLista(lista_de_string)"
      ],
      "metadata": {
        "colab": {
          "base_uri": "https://localhost:8080/"
        },
        "id": "7QOHsgT_EWDE",
        "outputId": "20a3d273-38b3-41e8-f71e-f1b76026308e"
      },
      "execution_count": null,
      "outputs": [
        {
          "output_type": "execute_result",
          "data": {
            "text/plain": [
              "[['A', 'z', 'u', 'l'],\n",
              " ['A', 'm', 'a', 'r', 'e', 'l', 'o'],\n",
              " ['T', 'u', 'r', 'q', 'u', 'e', 's', 'a'],\n",
              " ['V', 'e', 'r', 'm', 'e', 'l', 'h', 'o'],\n",
              " ['V', 'e', 'r', 'd', 'e'],\n",
              " ['P', 'r', 'e', 't', 'o'],\n",
              " ['B', 'r', 'a', 'n', 'c', 'o']]"
            ]
          },
          "metadata": {},
          "execution_count": 37
        }
      ]
    },
    {
      "cell_type": "markdown",
      "source": [
        "17. Escreva um programa Python para converter uma determinada lista de tuplas em uma lista de strings usando a função map."
      ],
      "metadata": {
        "id": "24lY_63jEWfK"
      }
    },
    {
      "cell_type": "code",
      "source": [
        "#Dados\n",
        "lista_de_tuplas = [(\"Azul\",\"Amarelo\"),(\"Verde\",\"Vermelho\"),(\"Ciano\",\"Cinza\")]\n",
        "\n",
        "#Resolução\n",
        "\n",
        "def converteTuplas(lista_de_tuplas):\n",
        "    result = list(map(' '.join, lista_de_tuplas))\n",
        "    return result\n",
        "\n",
        "converteTuplas(lista_de_tuplas)"
      ],
      "metadata": {
        "colab": {
          "base_uri": "https://localhost:8080/"
        },
        "id": "cFVhokI3EW48",
        "outputId": "775b9109-8bda-482f-ccc2-b02c758ec27f"
      },
      "execution_count": null,
      "outputs": [
        {
          "output_type": "execute_result",
          "data": {
            "text/plain": [
              "['Azul Amarelo', 'Verde Vermelho', 'Ciano Cinza']"
            ]
          },
          "metadata": {},
          "execution_count": 38
        }
      ]
    }
  ]
}